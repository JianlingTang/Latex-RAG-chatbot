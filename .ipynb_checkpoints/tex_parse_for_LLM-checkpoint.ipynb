{
 "cells": [
  {
   "cell_type": "code",
   "execution_count": 4,
   "id": "4a6e1352",
   "metadata": {},
   "outputs": [],
   "source": [
    "import re\n",
    "import json\n",
    "from typing import List, Dict\n",
    "import glob "
   ]
  },
  {
   "cell_type": "code",
   "execution_count": 7,
   "id": "94fb22b4",
   "metadata": {},
   "outputs": [],
   "source": [
    "def extract_chunks(tex_text: str) -> List[Dict[str, str]]:\n",
    "    \"\"\"\n",
    "    Parses LaTeX content and extracts sections, text blocks, and equations.\n",
    "    Returns a list of dictionaries with keys: section, text, equation\n",
    "    \"\"\"\n",
    "    sections = re.split(r'\\\\section\\*?\\{(.+?)\\}', tex_text)\n",
    "    chunks = []\n",
    "\n",
    "    for i in range(1, len(sections), 2):\n",
    "        section_title = sections[i].strip()\n",
    "        content = sections[i + 1]\n",
    "\n",
    "        # Extract equations from equation and align environments\n",
    "        eq_pattern = r'\\\\begin\\{(?:equation|align)\\*?\\}(.*?)\\\\end\\{(?:equation|align)\\*?\\}'\n",
    "        equations = re.findall(eq_pattern, content, re.DOTALL)\n",
    "        text_blocks = re.split(eq_pattern, content, flags=re.DOTALL)\n",
    "\n",
    "        # Combine text blocks and equations into chunks\n",
    "        eq_idx = 0\n",
    "        for idx, text in enumerate(text_blocks):\n",
    "            # Even index = text, odd = equation (because of how re.split works with capture group)\n",
    "            if idx % 2 == 0:\n",
    "                chunk = {\n",
    "                    \"section\": section_title,\n",
    "                    \"text\": re.sub(r'\\\\\\w+', '', text.strip()),\n",
    "                    \"equation\": equations[eq_idx].strip() if eq_idx < len(equations) else \"\"\n",
    "                }\n",
    "                chunks.append(chunk)\n",
    "            else:\n",
    "                eq_idx += 1\n",
    "\n",
    "    return chunks\n",
    "\n",
    "def save_chunks_to_json(chunks: List[Dict[str, str]], output_path: str = \"chunks.json\") -> None:\n",
    "    with open(output_path, 'w') as f:\n",
    "        json.dump(chunks, f, indent=2)\n",
    "\n",
    "# if __name__ == \"__main__\":\n",
    "tex_files = glob.glob(\"*.tex\")\n",
    "for texfile in tex_files:\n",
    "    with open(\"ICML_2016_deep_learning_uncertainty.tex\", \"r\") as f:\n",
    "        tex_content = f.read()\n",
    "    parsed_chunks = extract_chunks(tex_content)\n",
    "    save_chunks_to_json(parsed_chunks)\n"
   ]
  },
  {
   "cell_type": "code",
   "execution_count": 10,
   "id": "63a9a60b",
   "metadata": {},
   "outputs": [
    {
     "name": "stderr",
     "output_type": "stream",
     "text": [
      "E\n",
      "======================================================================\n",
      "ERROR: /home/100/jt4478/ (unittest.loader._FailedTest)\n",
      "----------------------------------------------------------------------\n",
      "AttributeError: module '__main__' has no attribute '/home/100/jt4478/'\n",
      "\n",
      "----------------------------------------------------------------------\n",
      "Ran 1 test in 0.001s\n",
      "\n",
      "FAILED (errors=1)\n"
     ]
    },
    {
     "ename": "SystemExit",
     "evalue": "True",
     "output_type": "error",
     "traceback": [
      "An exception has occurred, use %tb to see the full traceback.\n",
      "\u001b[0;31mSystemExit\u001b[0m\u001b[0;31m:\u001b[0m True\n"
     ]
    },
    {
     "name": "stderr",
     "output_type": "stream",
     "text": [
      "/apps/jupyterlab/3.4.3-py3.9/lib/python3.9/site-packages/IPython/core/interactiveshell.py:3406: UserWarning: To exit: use 'exit', 'quit', or Ctrl-D.\n",
      "  warn(\"To exit: use 'exit', 'quit', or Ctrl-D.\", stacklevel=1)\n"
     ]
    }
   ],
   "source": [
    "# Unit test \n",
    "# test_tex_parser.py\n",
    "import unittest\n",
    "from tex_parser import extract_chunks\n",
    "\n",
    "class TestTexParser(unittest.TestCase):\n",
    "\n",
    "    def test_extract_chunks_basic(self):\n",
    "        sample_tex = r\"\"\"\n",
    "        \\section{Introduction}\n",
    "        This is an intro paragraph.\n",
    "        \\begin{equation}\n",
    "        E = mc^2\n",
    "        \\end{equation}\n",
    "        More explanation here.\n",
    "\n",
    "        \\section{Cooling Function}\n",
    "        The cooling rate is defined as:\n",
    "        \\begin{align*}\n",
    "        \\Lambda(T) &= n_e n_H \\Lambda_T \\\\\n",
    "        \\end{align*}\n",
    "        It depends on temperature.\n",
    "        \"\"\"\n",
    "        chunks = extract_chunks(sample_tex)\n",
    "        self.assertEqual(len(chunks), 4)\n",
    "        self.assertEqual(chunks[0]['section'], 'Introduction')\n",
    "        self.assertIn('intro paragraph', chunks[0]['text'])\n",
    "        self.assertEqual(chunks[1]['equation'], 'E = mc^2')\n",
    "        self.assertEqual(chunks[2]['section'], 'Cooling Function')\n",
    "        self.assertIn('cooling rate', chunks[2]['text'])\n",
    "        self.assertIn('temperature', chunks[3]['text'])\n",
    "\n",
    "if __name__ == \"__main__\":\n",
    "    unittest.main()\n"
   ]
  },
  {
   "cell_type": "code",
   "execution_count": null,
   "id": "4db8a7a6",
   "metadata": {},
   "outputs": [],
   "source": []
  }
 ],
 "metadata": {
  "kernelspec": {
   "display_name": "Python 3 (ipykernel)",
   "language": "python",
   "name": "python3"
  },
  "language_info": {
   "codemirror_mode": {
    "name": "ipython",
    "version": 3
   },
   "file_extension": ".py",
   "mimetype": "text/x-python",
   "name": "python",
   "nbconvert_exporter": "python",
   "pygments_lexer": "ipython3",
   "version": "3.9.2"
  }
 },
 "nbformat": 4,
 "nbformat_minor": 5
}
